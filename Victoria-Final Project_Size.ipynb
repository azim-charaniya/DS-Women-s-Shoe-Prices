{
 "cells": [
  {
   "cell_type": "code",
   "execution_count": 2,
   "id": "e9fc175b",
   "metadata": {},
   "outputs": [
    {
     "data": {
      "text/html": [
       "<div>\n",
       "<style scoped>\n",
       "    .dataframe tbody tr th:only-of-type {\n",
       "        vertical-align: middle;\n",
       "    }\n",
       "\n",
       "    .dataframe tbody tr th {\n",
       "        vertical-align: top;\n",
       "    }\n",
       "\n",
       "    .dataframe thead th {\n",
       "        text-align: right;\n",
       "    }\n",
       "</style>\n",
       "<table border=\"1\" class=\"dataframe\">\n",
       "  <thead>\n",
       "    <tr style=\"text-align: right;\">\n",
       "      <th></th>\n",
       "      <th>prices.size</th>\n",
       "    </tr>\n",
       "  </thead>\n",
       "  <tbody>\n",
       "    <tr>\n",
       "      <th>0</th>\n",
       "      <td>S</td>\n",
       "    </tr>\n",
       "    <tr>\n",
       "      <th>1</th>\n",
       "      <td>6</td>\n",
       "    </tr>\n",
       "    <tr>\n",
       "      <th>2</th>\n",
       "      <td>6</td>\n",
       "    </tr>\n",
       "    <tr>\n",
       "      <th>3</th>\n",
       "      <td>6</td>\n",
       "    </tr>\n",
       "    <tr>\n",
       "      <th>4</th>\n",
       "      <td>6</td>\n",
       "    </tr>\n",
       "    <tr>\n",
       "      <th>...</th>\n",
       "      <td>...</td>\n",
       "    </tr>\n",
       "    <tr>\n",
       "      <th>9995</th>\n",
       "      <td>7.5</td>\n",
       "    </tr>\n",
       "    <tr>\n",
       "      <th>9996</th>\n",
       "      <td>7</td>\n",
       "    </tr>\n",
       "    <tr>\n",
       "      <th>9997</th>\n",
       "      <td>11</td>\n",
       "    </tr>\n",
       "    <tr>\n",
       "      <th>9998</th>\n",
       "      <td>6.5</td>\n",
       "    </tr>\n",
       "    <tr>\n",
       "      <th>9999</th>\n",
       "      <td>40</td>\n",
       "    </tr>\n",
       "  </tbody>\n",
       "</table>\n",
       "<p>10000 rows × 1 columns</p>\n",
       "</div>"
      ],
      "text/plain": [
       "     prices.size\n",
       "0              S\n",
       "1              6\n",
       "2              6\n",
       "3              6\n",
       "4              6\n",
       "...          ...\n",
       "9995         7.5\n",
       "9996           7\n",
       "9997          11\n",
       "9998         6.5\n",
       "9999          40\n",
       "\n",
       "[10000 rows x 1 columns]"
      ]
     },
     "execution_count": 2,
     "metadata": {},
     "output_type": "execute_result"
    }
   ],
   "source": [
    "import pandas as pd\n",
    "import numpy as np\n",
    "\n",
    "df=pd.read_csv(\"Datafiniti_Womens_Shoes.csv\")\n",
    "\n",
    "df.loc[:,['prices.size']]"
   ]
  },
  {
   "cell_type": "code",
   "execution_count": 3,
   "id": "30f53a05",
   "metadata": {},
   "outputs": [
    {
     "data": {
      "text/plain": [
       "0"
      ]
     },
     "execution_count": 3,
     "metadata": {},
     "output_type": "execute_result"
    }
   ],
   "source": [
    "#check if there are missing values\n",
    "\n",
    "df['prices.size'].isnull().sum()"
   ]
  },
  {
   "cell_type": "code",
   "execution_count": 10,
   "id": "6d221c7c",
   "metadata": {},
   "outputs": [
    {
     "data": {
      "text/plain": [
       "array(['S', '6', '5', 'SMALL', 'MEDIUM', '7', '9', '8', '6.5', '10',\n",
       "       '9.5', '8.5', '5.5', '8.5 WIDE', '9 WIDE', '7 WIDE', '6 WIDE',\n",
       "       '7.5 WIDE', '11', '9.5 WIDE', '8 WIDE', '7.5', '11 WIDE', '8 MED',\n",
       "       '5.5 MED', '5 MED', '9 MED', '6.5 MED', '6 MED', '7.5 MED',\n",
       "       '9.5 MED', 'Medium', '4', '8.5 MED', '7 MED', '12', '12 MED',\n",
       "       '10 WIDE', '6.5 WIDE', '10 MED', '11 MED', 'LARGE', '10.5 WIDE',\n",
       "       '10.5', '12 WIDE', '5.5 WIDE', '5 WIDE', '10.5 MED', '40', '39',\n",
       "       '42', '41', '38 WIDE', '37', '36 WIDE', '41 WIDE', '36', '40 WIDE',\n",
       "       '38', '35', '11.5 WIDE', '11.5', '40.5', 'US 9.5/UK 8.0',\n",
       "       'US 9.0/UK 7.5', 'US 8.5/UK 7.0', '41.5', '38.5', 'US 6.0/UK 4.5',\n",
       "       'US 7.0/UK 5.5', 'US 10.0/UK 8.5', 'US 7.5/UK 6.0',\n",
       "       'US 11.0/UK 9.5', 'US 10.5/UK 9.0', 'US 6.5/UK 5.0',\n",
       "       'US 8.0/UK 6.5', '39.5', 'Mens 7.0/Womens 8.5',\n",
       "       'Mens 7.5/Womens 9.0', 'Mens 8.5/Womens 10.0',\n",
       "       'Mens 4.5/Womens 6.0', 'Mens 6.0/Womens 7.5',\n",
       "       'Mens 5.5/Womens 7.0'], dtype=object)"
      ]
     },
     "execution_count": 10,
     "metadata": {},
     "output_type": "execute_result"
    }
   ],
   "source": [
    "#check unique data and address the incosistency in data\n",
    "\n",
    "df['prices.size'].unique()"
   ]
  },
  {
   "cell_type": "code",
   "execution_count": 16,
   "id": "c5561f48",
   "metadata": {},
   "outputs": [
    {
     "data": {
      "text/plain": [
       "array(['s', '6', '5', 'small', 'medium', '7', '9', '8', '6.5', '10',\n",
       "       '9.5', '8.5', '5.5', '8.5 wide', '9 wide', '7 wide', '6 wide',\n",
       "       '7.5 wide', '11', '9.5 wide', '8 wide', '7.5', '11 wide', '8 med',\n",
       "       '5.5 med', '5 med', '9 med', '6.5 med', '6 med', '7.5 med',\n",
       "       '9.5 med', '4', '8.5 med', '7 med', '12', '12 med', '10 wide',\n",
       "       '6.5 wide', '10 med', '11 med', 'large', '10.5 wide', '10.5',\n",
       "       '12 wide', '5.5 wide', '5 wide', '10.5 med', '40', '39', '42',\n",
       "       '41', '38 wide', '37', '36 wide', '41 wide', '36', '40 wide', '38',\n",
       "       '35', '11.5 wide', '11.5', '40.5', 'us 9.5/uk 8.0',\n",
       "       'us 9.0/uk 7.5', 'us 8.5/uk 7.0', '41.5', '38.5', 'us 6.0/uk 4.5',\n",
       "       'us 7.0/uk 5.5', 'us 10.0/uk 8.5', 'us 7.5/uk 6.0',\n",
       "       'us 11.0/uk 9.5', 'us 10.5/uk 9.0', 'us 6.5/uk 5.0',\n",
       "       'us 8.0/uk 6.5', '39.5', 'mens 7.0/womens 8.5',\n",
       "       'mens 7.5/womens 9.0', 'mens 8.5/womens 10.0',\n",
       "       'mens 4.5/womens 6.0', 'mens 6.0/womens 7.5',\n",
       "       'mens 5.5/womens 7.0'], dtype=object)"
      ]
     },
     "execution_count": 16,
     "metadata": {},
     "output_type": "execute_result"
    }
   ],
   "source": [
    "#check unique data \n",
    "df['prices.size'] = df['prices.size'].str.lower()\n",
    "df['prices.size'].unique()"
   ]
  },
  {
   "cell_type": "code",
   "execution_count": 18,
   "id": "0d14205e",
   "metadata": {},
   "outputs": [
    {
     "name": "stdout",
     "output_type": "stream",
     "text": [
      "['5' '6' '7' '9' '8' '6.5' '10' '9.5' '8.5' '5.5' '7.5' '11' '4' '12'\n",
      " '10.5' '40' '39' '42' '41' '38' '37' '36' '35' '11.5' '40.5' '9.0' '41.5'\n",
      " '38.5' '6.0' '7.0' '10.0' '11.0' '8.0' '39.5']\n"
     ]
    }
   ],
   "source": [
    "# address the incosistency in data\n",
    "\n",
    "import re\n",
    "\n",
    "#keep us size only\n",
    "\n",
    "def extract_us_size(size):\n",
    "    match_us = re.match(r'^us\\s+(\\d+(?:\\.\\d+)?)', size)\n",
    "    if match_us:\n",
    "        return match_us.group(1)\n",
    "    return size\n",
    "\n",
    "#keep womens size only\n",
    "\n",
    "def extract_womens_size(size):\n",
    "    match_womens = re.search(r'womens\\s+(\\d+(?:\\.\\d+)?)', size)\n",
    "    if match_womens:\n",
    "        return match_womens.group(1)\n",
    "    return size\n",
    "\n",
    "#keep size before med/wide\n",
    "\n",
    "def extract_number_before_med_or_wide(size):\n",
    "    match_med_or_wide = re.search(r'(\\d+(?:\\.\\d+)?)\\s+(?:med|wide)', size)\n",
    "    if match_med_or_wide:\n",
    "        return match_med_or_wide.group(1)\n",
    "    return size\n",
    "\n",
    "#replace s/small/medium/large with a number\n",
    "\n",
    "def replace_values(value):\n",
    "    replacements = {\n",
    "        's': '5',\n",
    "        'small': '5',\n",
    "        'medium': '6',\n",
    "        'large': '7'\n",
    "    }\n",
    "    return replacements.get(value, value)\n",
    "\n",
    "# Apply the functions to the 'prices.size' column\n",
    "df['prices.size']= df['prices.size'].apply(extract_us_size)\n",
    "df['prices.size'] =df['prices.size'].apply(extract_womens_size)\n",
    "df['prices.size']= df['prices.size'].apply(extract_number_before_med_or_wide)\n",
    "df['prices.size'] = df['prices.size'].apply(replace_values)\n",
    "\n",
    "print(df['prices.size'].unique())"
   ]
  },
  {
   "cell_type": "code",
   "execution_count": 31,
   "id": "6b3d55b2",
   "metadata": {},
   "outputs": [
    {
     "name": "stdout",
     "output_type": "stream",
     "text": [
      "[ 5.   6.   7.   9.   8.   6.5 10.   9.5  8.5  5.5  7.5 11.   4.  12.\n",
      " 10.5 40.  39.  42.  41.  38.  37.  36.  35.  11.5 40.5 41.5 38.5 39.5]\n",
      "42.0\n"
     ]
    }
   ],
   "source": [
    "# change all values to numeric\n",
    "\n",
    "df['prices.size'] = pd.to_numeric(df['prices.size'], errors='coerce')\n",
    "\n",
    "print(df['prices.size'].unique())\n",
    "\n",
    "print(df['prices.size'].max())\n"
   ]
  },
  {
   "cell_type": "code",
   "execution_count": 36,
   "id": "0a3bf133",
   "metadata": {},
   "outputs": [
    {
     "name": "stdout",
     "output_type": "stream",
     "text": [
      "[ 5.   6.   7.   9.   8.   6.5 10.   9.5  8.5  5.5  7.5 11.   4.  12.\n",
      " 10.5 11.5]\n"
     ]
    }
   ],
   "source": [
    "#converting EU sizes to US sizes\n",
    "\n",
    "\n",
    "import pandas as pd\n",
    "\n",
    "import numpy as np\n",
    "\n",
    "n=df['prices.size']\n",
    "\n",
    "# Conversion table: EU sizes mapped to corresponding US sizes\n",
    "to_us_sizes = {\n",
    "    '34': 4,\n",
    "    '34.5': 4.5,\n",
    "    '35': 5,\n",
    "    '35.5': 5.5,\n",
    "    '36': 6,\n",
    "    '36.5': 6,\n",
    "    '37': 6.5,\n",
    "    '37.5': 7,\n",
    "    '38': 7.5,\n",
    "    '38.5': 7.5,\n",
    "    '39': 8,\n",
    "    '39.5': 8.5,\n",
    "    '40': 9,\n",
    "    '40.5': 9.5,\n",
    "    '41': 9.5,\n",
    "    '41.5': 10,\n",
    "    '42': 10.5\n",
    "}\n",
    "\n",
    "def convert_to_us(n):\n",
    "    if n < 34:\n",
    "        return n\n",
    "    else:\n",
    "        keys = sorted(to_us_sizes.keys(), key=float, reverse=True)\n",
    "\n",
    "        for key in keys:\n",
    "            if float(key) <= n:\n",
    "                return to_us_sizes[key]\n",
    "\n",
    "        return n  \n",
    "    \n",
    "df['prices.size'] = df['prices.size'].apply(convert_to_us)\n",
    "\n",
    "print(df['prices.size'].unique())"
   ]
  },
  {
   "cell_type": "code",
   "execution_count": 42,
   "id": "c02c117f",
   "metadata": {},
   "outputs": [
    {
     "name": "stdout",
     "output_type": "stream",
     "text": [
      "6.0     1020\n",
      "8.0     1020\n",
      "7.0      964\n",
      "6.5      960\n",
      "10.0     936\n",
      "7.5      932\n",
      "9.0      917\n",
      "8.5      903\n",
      "11.0     733\n",
      "9.5      658\n",
      "5.5      341\n",
      "5.0      303\n",
      "12.0     211\n",
      "10.5      98\n",
      "11.5       3\n",
      "4.0        1\n",
      "Name: prices.size, dtype: int64\n"
     ]
    }
   ],
   "source": [
    "#data visualization\n",
    "\n",
    "sizes_count = df['prices.size'].value_counts()\n",
    "\n",
    "print(sizes_count)"
   ]
  },
  {
   "cell_type": "code",
   "execution_count": 43,
   "id": "836dfc32",
   "metadata": {},
   "outputs": [
    {
     "data": {
      "image/png": "[encoded data removed]",
      "text/plain": [
       "<Figure size 800x600 with 1 Axes>"
      ]
     },
     "metadata": {},
     "output_type": "display_data"
    }
   ],
   "source": [
    "#data visualization\n",
    "\n",
    "\n",
    "import pandas as pd\n",
    "import matplotlib.pyplot as plt\n",
    "\n",
    "\n",
    "plt.figure(figsize=(8, 6))\n",
    "plt.scatter(size_counts.index, size_counts.values, s=100, color='b', edgecolor='black')\n",
    "plt.xlabel('Size')\n",
    "plt.ylabel('Count')\n",
    "plt.title('Size Distribution')\n",
    "plt.xticks(rotation=0)\n",
    "plt.show()"
   ]
  },
  {
   "cell_type": "code",
   "execution_count": 38,
   "id": "cd03a4d1",
   "metadata": {},
   "outputs": [
    {
     "data": {
      "image/png": "[encoded data removed]",
      "text/plain": [
       "<Figure size 800x600 with 1 Axes>"
      ]
     },
     "metadata": {},
     "output_type": "display_data"
    }
   ],
   "source": [
    "# data analysis \n",
    "\n",
    "import pandas as pd\n",
    "import matplotlib.pyplot as plt\n",
    "\n",
    "# Find the top 5 sizes with the largest count\n",
    "top_sizes = df['prices.size'].value_counts().nlargest(5)\n",
    "\n",
    "# Plot the top 5 sizes with the largest count\n",
    "plt.figure(figsize=(8, 6))\n",
    "top_sizes.plot(kind='bar')\n",
    "plt.xlabel('Size')\n",
    "plt.ylabel('Count')\n",
    "plt.title('Top 5 Sizes with Largest Count')\n",
    "plt.xticks(rotation=0)\n",
    "plt.show()"
   ]
  },
  {
   "cell_type": "code",
   "execution_count": null,
   "id": "52eb5794",
   "metadata": {},
   "outputs": [],
   "source": [
    "\n"
   ]
  }
 ],
 "metadata": {
  "kernelspec": {
   "display_name": "Python 3 (ipykernel)",
   "language": "python",
   "name": "python3"
  },
  "language_info": {
   "codemirror_mode": {
    "name": "ipython",
    "version": 3
   },
   "file_extension": ".py",
   "mimetype": "text/x-python",
   "name": "python",
   "nbconvert_exporter": "python",
   "pygments_lexer": "ipython3",
   "version": "3.10.9"
  }
 },
 "nbformat": 4,
 "nbformat_minor": 5
}
