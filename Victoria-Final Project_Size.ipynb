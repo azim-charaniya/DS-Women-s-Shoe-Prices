{
 "cells": [
  {
   "cell_type": "code",
   "execution_count": 37,
   "id": "e9fc175b",
   "metadata": {},
   "outputs": [
    {
     "data": {
      "text/html": [
       "<div>\n",
       "<style scoped>\n",
       "    .dataframe tbody tr th:only-of-type {\n",
       "        vertical-align: middle;\n",
       "    }\n",
       "\n",
       "    .dataframe tbody tr th {\n",
       "        vertical-align: top;\n",
       "    }\n",
       "\n",
       "    .dataframe thead th {\n",
       "        text-align: right;\n",
       "    }\n",
       "</style>\n",
       "<table border=\"1\" class=\"dataframe\">\n",
       "  <thead>\n",
       "    <tr style=\"text-align: right;\">\n",
       "      <th></th>\n",
       "      <th>prices.size</th>\n",
       "    </tr>\n",
       "  </thead>\n",
       "  <tbody>\n",
       "    <tr>\n",
       "      <th>0</th>\n",
       "      <td>S</td>\n",
       "    </tr>\n",
       "    <tr>\n",
       "      <th>1</th>\n",
       "      <td>6</td>\n",
       "    </tr>\n",
       "    <tr>\n",
       "      <th>2</th>\n",
       "      <td>6</td>\n",
       "    </tr>\n",
       "    <tr>\n",
       "      <th>3</th>\n",
       "      <td>6</td>\n",
       "    </tr>\n",
       "    <tr>\n",
       "      <th>4</th>\n",
       "      <td>6</td>\n",
       "    </tr>\n",
       "    <tr>\n",
       "      <th>...</th>\n",
       "      <td>...</td>\n",
       "    </tr>\n",
       "    <tr>\n",
       "      <th>9995</th>\n",
       "      <td>7.5</td>\n",
       "    </tr>\n",
       "    <tr>\n",
       "      <th>9996</th>\n",
       "      <td>7</td>\n",
       "    </tr>\n",
       "    <tr>\n",
       "      <th>9997</th>\n",
       "      <td>11</td>\n",
       "    </tr>\n",
       "    <tr>\n",
       "      <th>9998</th>\n",
       "      <td>6.5</td>\n",
       "    </tr>\n",
       "    <tr>\n",
       "      <th>9999</th>\n",
       "      <td>40</td>\n",
       "    </tr>\n",
       "  </tbody>\n",
       "</table>\n",
       "<p>10000 rows × 1 columns</p>\n",
       "</div>"
      ],
      "text/plain": [
       "     prices.size\n",
       "0              S\n",
       "1              6\n",
       "2              6\n",
       "3              6\n",
       "4              6\n",
       "...          ...\n",
       "9995         7.5\n",
       "9996           7\n",
       "9997          11\n",
       "9998         6.5\n",
       "9999          40\n",
       "\n",
       "[10000 rows x 1 columns]"
      ]
     },
     "execution_count": 37,
     "metadata": {},
     "output_type": "execute_result"
    }
   ],
   "source": [
    "import pandas as pd\n",
    "import numpy as np\n",
    "\n",
    "df=pd.read_csv(\"Datafiniti_Womens_Shoes.csv\")\n",
    "\n",
    "df.loc[:,['prices.size']]"
   ]
  },
  {
   "cell_type": "code",
   "execution_count": 38,
   "id": "30f53a05",
   "metadata": {},
   "outputs": [
    {
     "data": {
      "text/plain": [
       "0"
      ]
     },
     "execution_count": 38,
     "metadata": {},
     "output_type": "execute_result"
    }
   ],
   "source": [
    "#check if there are missing values\n",
    "\n",
    "df['prices.size'].isnull().sum()"
   ]
  },
  {
   "cell_type": "code",
   "execution_count": 39,
   "id": "6d221c7c",
   "metadata": {},
   "outputs": [
    {
     "data": {
      "text/plain": [
       "array(['S', '6', '5', 'SMALL', 'MEDIUM', '7', '9', '8', '6.5', '10',\n",
       "       '9.5', '8.5', '5.5', '8.5 WIDE', '9 WIDE', '7 WIDE', '6 WIDE',\n",
       "       '7.5 WIDE', '11', '9.5 WIDE', '8 WIDE', '7.5', '11 WIDE', '8 MED',\n",
       "       '5.5 MED', '5 MED', '9 MED', '6.5 MED', '6 MED', '7.5 MED',\n",
       "       '9.5 MED', 'Medium', '4', '8.5 MED', '7 MED', '12', '12 MED',\n",
       "       '10 WIDE', '6.5 WIDE', '10 MED', '11 MED', 'LARGE', '10.5 WIDE',\n",
       "       '10.5', '12 WIDE', '5.5 WIDE', '5 WIDE', '10.5 MED', '40', '39',\n",
       "       '42', '41', '38 WIDE', '37', '36 WIDE', '41 WIDE', '36', '40 WIDE',\n",
       "       '38', '35', '11.5 WIDE', '11.5', '40.5', 'US 9.5/UK 8.0',\n",
       "       'US 9.0/UK 7.5', 'US 8.5/UK 7.0', '41.5', '38.5', 'US 6.0/UK 4.5',\n",
       "       'US 7.0/UK 5.5', 'US 10.0/UK 8.5', 'US 7.5/UK 6.0',\n",
       "       'US 11.0/UK 9.5', 'US 10.5/UK 9.0', 'US 6.5/UK 5.0',\n",
       "       'US 8.0/UK 6.5', '39.5', 'Mens 7.0/Womens 8.5',\n",
       "       'Mens 7.5/Womens 9.0', 'Mens 8.5/Womens 10.0',\n",
       "       'Mens 4.5/Womens 6.0', 'Mens 6.0/Womens 7.5',\n",
       "       'Mens 5.5/Womens 7.0'], dtype=object)"
      ]
     },
     "execution_count": 39,
     "metadata": {},
     "output_type": "execute_result"
    }
   ],
   "source": [
    "#address the incosistency in data\n",
    "\n",
    "df['prices.size'].unique()"
   ]
  },
  {
   "cell_type": "code",
   "execution_count": null,
   "id": "b277be05",
   "metadata": {},
   "outputs": [],
   "source": [
    "#keep US size only\n",
    "\n",
    "\n",
    "\n",
    "\n"
   ]
  },
  {
   "cell_type": "code",
   "execution_count": null,
   "id": "6b40931d",
   "metadata": {},
   "outputs": [],
   "source": [
    "#keep women size only\n",
    "\n",
    "\n",
    "\n",
    "\n"
   ]
  },
  {
   "cell_type": "code",
   "execution_count": 4,
   "id": "7aa531fe",
   "metadata": {},
   "outputs": [
    {
     "name": "stdout",
     "output_type": "stream",
     "text": [
      "0        NaN\n",
      "1        6.0\n",
      "2        6.0\n",
      "3        6.0\n",
      "4        6.0\n",
      "        ... \n",
      "9995     7.5\n",
      "9996     7.0\n",
      "9997    11.0\n",
      "9998     6.5\n",
      "9999    40.0\n",
      "Name: prices.size, Length: 10000, dtype: float64\n"
     ]
    }
   ],
   "source": [
    "#converting data type to numeric \n",
    "\n",
    "cleaned_size= df['prices.size'] = pd.to_numeric(df['prices.size'], errors='coerce')\n",
    "print(cleaned_size)"
   ]
  },
  {
   "cell_type": "code",
   "execution_count": 5,
   "id": "6e87ddf6",
   "metadata": {},
   "outputs": [
    {
     "data": {
      "text/html": [
       "<div>\n",
       "<style scoped>\n",
       "    .dataframe tbody tr th:only-of-type {\n",
       "        vertical-align: middle;\n",
       "    }\n",
       "\n",
       "    .dataframe tbody tr th {\n",
       "        vertical-align: top;\n",
       "    }\n",
       "\n",
       "    .dataframe thead th {\n",
       "        text-align: right;\n",
       "    }\n",
       "</style>\n",
       "<table border=\"1\" class=\"dataframe\">\n",
       "  <thead>\n",
       "    <tr style=\"text-align: right;\">\n",
       "      <th></th>\n",
       "      <th>prices.size</th>\n",
       "    </tr>\n",
       "  </thead>\n",
       "  <tbody>\n",
       "    <tr>\n",
       "      <th>0</th>\n",
       "      <td>NaN</td>\n",
       "    </tr>\n",
       "    <tr>\n",
       "      <th>1</th>\n",
       "      <td>6.0</td>\n",
       "    </tr>\n",
       "    <tr>\n",
       "      <th>2</th>\n",
       "      <td>6.0</td>\n",
       "    </tr>\n",
       "    <tr>\n",
       "      <th>3</th>\n",
       "      <td>6.0</td>\n",
       "    </tr>\n",
       "    <tr>\n",
       "      <th>4</th>\n",
       "      <td>6.0</td>\n",
       "    </tr>\n",
       "    <tr>\n",
       "      <th>...</th>\n",
       "      <td>...</td>\n",
       "    </tr>\n",
       "    <tr>\n",
       "      <th>9995</th>\n",
       "      <td>7.5</td>\n",
       "    </tr>\n",
       "    <tr>\n",
       "      <th>9996</th>\n",
       "      <td>7.0</td>\n",
       "    </tr>\n",
       "    <tr>\n",
       "      <th>9997</th>\n",
       "      <td>11.0</td>\n",
       "    </tr>\n",
       "    <tr>\n",
       "      <th>9998</th>\n",
       "      <td>6.5</td>\n",
       "    </tr>\n",
       "    <tr>\n",
       "      <th>9999</th>\n",
       "      <td>40.0</td>\n",
       "    </tr>\n",
       "  </tbody>\n",
       "</table>\n",
       "<p>10000 rows × 1 columns</p>\n",
       "</div>"
      ],
      "text/plain": [
       "      prices.size\n",
       "0             NaN\n",
       "1             6.0\n",
       "2             6.0\n",
       "3             6.0\n",
       "4             6.0\n",
       "...           ...\n",
       "9995          7.5\n",
       "9996          7.0\n",
       "9997         11.0\n",
       "9998          6.5\n",
       "9999         40.0\n",
       "\n",
       "[10000 rows x 1 columns]"
      ]
     },
     "execution_count": 5,
     "metadata": {},
     "output_type": "execute_result"
    }
   ],
   "source": [
    "data=cleaned_size\n",
    "df_cleaned=pd.DataFrame(data)\n",
    "df_cleaned"
   ]
  },
  {
   "cell_type": "code",
   "execution_count": 6,
   "id": "9212b6fe",
   "metadata": {},
   "outputs": [
    {
     "data": {
      "text/plain": [
       "array([ nan,  6. ,  5. ,  7. ,  9. ,  8. ,  6.5, 10. ,  9.5,  8.5,  5.5,\n",
       "       11. ,  7.5,  4. , 12. , 10.5, 40. , 39. , 42. , 41. , 37. , 36. ,\n",
       "       38. , 35. , 11.5, 40.5, 41.5, 38.5, 39.5])"
      ]
     },
     "execution_count": 6,
     "metadata": {},
     "output_type": "execute_result"
    }
   ],
   "source": [
    "df_cleaned['prices.size'].unique()\n",
    "\n",
    "#why there are still numbers as unique values?\n",
    "#how to keep US sizes only and remove UK sizes???"
   ]
  },
  {
   "cell_type": "code",
   "execution_count": 9,
   "id": "6b3d55b2",
   "metadata": {},
   "outputs": [
    {
     "data": {
      "text/plain": [
       "42.0"
      ]
     },
     "execution_count": 9,
     "metadata": {},
     "output_type": "execute_result"
    }
   ],
   "source": [
    "df_cleaned['prices.size'].max()\n"
   ]
  },
  {
   "cell_type": "code",
   "execution_count": 34,
   "id": "7aec6ef4",
   "metadata": {},
   "outputs": [
    {
     "name": "stdout",
     "output_type": "stream",
     "text": [
      "[ nan  6.   6.  ... 11.   6.5  9. ]\n"
     ]
    }
   ],
   "source": [
    "#converting EU sizes to US sizes\n",
    "\n",
    "\n",
    "import pandas as pd\n",
    "\n",
    "import numpy as np\n",
    "\n",
    "n=df_cleaned['prices.size'].to_numpy()\n",
    "\n",
    "print(n)\n"
   ]
  },
  {
   "cell_type": "code",
   "execution_count": 40,
   "id": "f35790c5",
   "metadata": {},
   "outputs": [
    {
     "name": "stdout",
     "output_type": "stream",
     "text": [
      "0        NaN\n",
      "1        6.0\n",
      "2        6.0\n",
      "3        6.0\n",
      "4        6.0\n",
      "        ... \n",
      "9995     7.5\n",
      "9996     7.0\n",
      "9997    11.0\n",
      "9998     6.5\n",
      "9999     9.0\n",
      "Name: prices.size, Length: 10000, dtype: float64\n"
     ]
    }
   ],
   "source": [
    "# Conversion table: EU sizes mapped to corresponding US sizes\n",
    "to_us_sizes = {\n",
    "    '34': 4,\n",
    "    '34.5': 4.5,\n",
    "    '35': 5,\n",
    "    '35.5': 5.5,\n",
    "    '36': 6,\n",
    "    '36.5': 6,\n",
    "    '37': 6.5,\n",
    "    '37.5': 7,\n",
    "    '38': 7.5,\n",
    "    '38.5': 7.5,\n",
    "    '39': 8,\n",
    "    '39.5': 8.5,\n",
    "    '40': 9,\n",
    "    '40.5': 9.5,\n",
    "    '41': 9.5,\n",
    "    '41.5': 10,\n",
    "    '42': 10.5\n",
    "}\n",
    "\n",
    "def convert_to_us(n):\n",
    "    if n < 34:\n",
    "        return n\n",
    "    else:\n",
    "        keys = sorted(to_us_sizes.keys(), key=float, reverse=True)\n",
    "\n",
    "        for key in keys:\n",
    "            if float(key) <= n:\n",
    "                return to_us_sizes[key]\n",
    "\n",
    "        return n  \n",
    "df_cleaned['prices.size'] = df_cleaned['prices.size'].apply(convert_to_us)\n",
    "\n",
    "print(df_cleaned['prices.size'])\n",
    " "
   ]
  },
  {
   "cell_type": "code",
   "execution_count": 47,
   "id": "836dfc32",
   "metadata": {},
   "outputs": [
    {
     "data": {
      "image/png": "[encoded data removed]",
      "text/plain": [
       "<Figure size 800x600 with 1 Axes>"
      ]
     },
     "metadata": {},
     "output_type": "display_data"
    }
   ],
   "source": [
    "#data visualization\n",
    "\n",
    "size_counts = df_cleaned['prices.size'].value_counts()\n",
    "\n",
    "plt.figure(figsize=(8, 6))\n",
    "plt.scatter(size_counts.index, size_counts.values, s=100, color='b', edgecolor='black')\n",
    "plt.xlabel('Size')\n",
    "plt.ylabel('Count')\n",
    "plt.title('Size Distribution')\n",
    "plt.xticks(rotation=0)\n",
    "plt.show()"
   ]
  },
  {
   "cell_type": "code",
   "execution_count": 41,
   "id": "cd03a4d1",
   "metadata": {},
   "outputs": [
    {
     "data": {
      "image/png": "[encoded data removed]",
      "text/plain": [
       "<Figure size 800x600 with 1 Axes>"
      ]
     },
     "metadata": {},
     "output_type": "display_data"
    }
   ],
   "source": [
    "# data analysis \n",
    "\n",
    "import pandas as pd\n",
    "import matplotlib.pyplot as plt\n",
    "\n",
    "# Find the top 5 sizes with the largest count\n",
    "top_sizes = df_cleaned['prices.size'].value_counts().nlargest(5)\n",
    "\n",
    "# Plot the top 5 sizes with the largest count\n",
    "plt.figure(figsize=(8, 6))\n",
    "top_sizes.plot(kind='bar')\n",
    "plt.xlabel('Size')\n",
    "plt.ylabel('Count')\n",
    "plt.title('Top 5 Sizes with Largest Count')\n",
    "plt.xticks(rotation=0)\n",
    "plt.show()"
   ]
  },
  {
   "cell_type": "code",
   "execution_count": null,
   "id": "b018a1ac",
   "metadata": {},
   "outputs": [],
   "source": []
  }
 ],
 "metadata": {
  "kernelspec": {
   "display_name": "Python 3 (ipykernel)",
   "language": "python",
   "name": "python3"
  },
  "language_info": {
   "codemirror_mode": {
    "name": "ipython",
    "version": 3
   },
   "file_extension": ".py",
   "mimetype": "text/x-python",
   "name": "python",
   "nbconvert_exporter": "python",
   "pygments_lexer": "ipython3",
   "version": "3.10.9"
  }
 },
 "nbformat": 4,
 "nbformat_minor": 5
}
